{
 "cells": [
  {
   "cell_type": "code",
   "execution_count": 1,
   "metadata": {},
   "outputs": [],
   "source": [
    "import numpy as np\n",
    "import math\n",
    "import matplotlib.pyplot as plt\n",
    "import glob\n",
    "import sys\n",
    "from astroquery.jplhorizons import Horizons"
   ]
  },
  {
   "cell_type": "code",
   "execution_count": 2,
   "metadata": {},
   "outputs": [],
   "source": [
    "### Change as required\n",
    "main_dir = '/Users/s1523386/Documents/year1/shape_modelling/162p/'\n",
    "lc_dir = main_dir+'LC_prep/dist_corr/'\n",
    "target = '162p'\n",
    "date = '20210504'\n",
    "lam = '300'\n",
    "beta = '40'\n",
    "best_shifts = main_dir+'best_scaling_'+date+'_dist_cal.txt'\n"
   ]
  },
  {
   "cell_type": "code",
   "execution_count": 3,
   "metadata": {},
   "outputs": [
    {
     "name": "stdout",
     "output_type": "stream",
     "text": [
      "18 LC files found for 162p.\n",
      "First file in list =  /Users/s1523386/Documents/year1/shape_modelling/162p/LC_prep/dist_corr/162p_20070517_950_R.txt\n"
     ]
    }
   ],
   "source": [
    "files = sorted(glob.glob(lc_dir+target+'*R.txt'))\n",
    "# Check this read correctly\n",
    "if len(files)==0:\n",
    "    print('Problem loading LC files, check path.')\n",
    "    sys.exit()\n",
    "else:\n",
    "    print('%i LC files found for %s.'%(len(files), target))\n",
    "    print('First file in list = ', files[0])"
   ]
  },
  {
   "cell_type": "code",
   "execution_count": 4,
   "metadata": {},
   "outputs": [
    {
     "data": {
      "text/plain": [
       "[-0.24,\n",
       " 0.05,\n",
       " -0.163,\n",
       " -0.093,\n",
       " -0.099,\n",
       " 0.206,\n",
       " -0.156,\n",
       " -0.281,\n",
       " 0.034,\n",
       " -0.142,\n",
       " 0.161,\n",
       " -0.039,\n",
       " -0.01,\n",
       " -0.136,\n",
       " 0.027,\n",
       " -0.236,\n",
       " 0.204,\n",
       " -0.204]"
      ]
     },
     "execution_count": 4,
     "metadata": {},
     "output_type": "execute_result"
    }
   ],
   "source": [
    "# read in best shifts as output from matlab script\n",
    "shifts = []\n",
    "f = open(best_shifts, 'r')\n",
    "lines = f.readlines()\n",
    "for line in lines:\n",
    "    data=line.split()\n",
    "    shifts.append(float(data[0]))\n",
    "shifts"
   ]
  },
  {
   "cell_type": "code",
   "execution_count": 5,
   "metadata": {},
   "outputs": [],
   "source": [
    "\"\"\"# Function to convert intensities back to magnitudes\n",
    "\n",
    "def int2mag(i,m0):\n",
    "    m = m0-2.5*np.log10(i)\n",
    "    return m\n",
    "\n",
    "# Testing whether the order of subtracting the shift from the intensity before converting back to magnitude matters\n",
    "\n",
    "ints1=[0.67670596,0.67421747,0.68738492,0.68108294,0.68548823,0.69246846,0.66435468,0.69374521,0.65584317,0.67795364,0.67173813,0.66742120 ,0.66680677]\n",
    "print(ints1)\n",
    "shifted_ints1=np.array(ints1)-shifts[0]\n",
    "\n",
    "shifted_mags_test=np.zeros_like(shifted_ints1)\n",
    "\n",
    "for i,intensity in enumerate(shifted_ints1):\n",
    "    shifted_mags_test[i]=int2mag(intensity, 20)\n",
    "shifted_mags_test\n",
    "print(np.mean(shifted_mags_test))\"\"\";"
   ]
  },
  {
   "cell_type": "code",
   "execution_count": 5,
   "metadata": {},
   "outputs": [
    {
     "name": "stdout",
     "output_type": "stream",
     "text": [
      "No. mags to take mean of = 13\n",
      "No. mags to take mean of = 12\n",
      "No. mags to take mean of = 12\n",
      "No. mags to take mean of = 30\n",
      "No. mags to take mean of = 5\n",
      "No. mags to take mean of = 17\n",
      "No. mags to take mean of = 13\n",
      "No. mags to take mean of = 29\n",
      "No. mags to take mean of = 93\n",
      "No. mags to take mean of = 52\n",
      "No. mags to take mean of = 79\n",
      "No. mags to take mean of = 21\n",
      "No. mags to take mean of = 80\n",
      "No. mags to take mean of = 71\n",
      "No. mags to take mean of = 51\n",
      "No. mags to take mean of = 17\n",
      "No. mags to take mean of = 15\n",
      "No. mags to take mean of = 8\n"
     ]
    },
    {
     "data": {
      "text/plain": [
       "[13.966384615384614,\n",
       " 14.294416666666669,\n",
       " 14.013333333333334,\n",
       " 13.930366666666663,\n",
       " 14.218799999999998,\n",
       " 14.666235294117646,\n",
       " 14.198846153846155,\n",
       " 14.118517241379308,\n",
       " 14.392376344086024,\n",
       " 14.151076923076925,\n",
       " 14.505518987341775,\n",
       " 14.205380952380953,\n",
       " 13.9719,\n",
       " 13.817211267605632,\n",
       " 13.947588235294118,\n",
       " 14.237647058823528,\n",
       " 14.736133333333335,\n",
       " 14.234874999999999]"
      ]
     },
     "execution_count": 5,
     "metadata": {},
     "output_type": "execute_result"
    }
   ],
   "source": [
    "# Magnitudes found in the second column of each LC file, JD in first\n",
    "# Calculate mean magnitude from each LC as it's read in\n",
    "mjd_start = []\n",
    "mjd_all=[]\n",
    "mag = []\n",
    "mean_mag = []\n",
    "mag_all = []\n",
    "mag_unc=[]\n",
    "mjd = []\n",
    "npoints=np.zeros(len(files))\n",
    "\n",
    "for i,file in enumerate(files):\n",
    "    \n",
    "    count = 0\n",
    "    f = open(file, 'r')\n",
    "    lines = f.readlines()\n",
    "    for line in lines:\n",
    "        data = line.split()\n",
    "        mjd_all.append(float(data[0]))\n",
    "        mjd.append(float(data[0]))\n",
    "        mag.append(float(data[1]))\n",
    "        mag_all.append(float(data[1]))\n",
    "        mag_unc.append(float(data[2]))\n",
    "        count = count+1\n",
    "    npoints[i] = int(count)\n",
    "    mjd_start.append(mjd[0])    # MJDs at start of observing run (mid-exposure)\n",
    "    print('No. mags to take mean of =', len(mag))\n",
    "    mean_mag.append(np.mean(mag))\n",
    "    mjd = []\n",
    "    mag = []\n",
    "    \n",
    "f.close()\n",
    "mean_mag"
   ]
  },
  {
   "cell_type": "code",
   "execution_count": 6,
   "metadata": {},
   "outputs": [
    {
     "name": "stdout",
     "output_type": "stream",
     "text": [
      "14.206384615384614\n",
      "14.244416666666668\n",
      "14.176333333333334\n",
      "14.023366666666663\n",
      "14.317799999999998\n",
      "14.460235294117647\n",
      "14.354846153846156\n",
      "14.399517241379309\n",
      "14.358376344086023\n",
      "14.293076923076924\n",
      "14.344518987341775\n",
      "14.244380952380952\n",
      "13.9819\n",
      "13.953211267605631\n",
      "13.920588235294119\n",
      "14.473647058823529\n",
      "14.532133333333334\n",
      "14.438875\n"
     ]
    }
   ],
   "source": [
    "# Shift the magnitudes by values in best_shifts\n",
    "mags_shifted = np.array(mean_mag)-np.array(shifts)\n",
    "for mag in mags_shifted:\n",
    "    print(mag)"
   ]
  },
  {
   "cell_type": "code",
   "execution_count": 7,
   "metadata": {},
   "outputs": [
    {
     "data": {
      "text/plain": [
       "[2454238.473696,\n",
       " 2454239.385819,\n",
       " 2454240.396273,\n",
       " 2456040.641995,\n",
       " 2456071.546767,\n",
       " 2456093.565922,\n",
       " 2456096.568522,\n",
       " 2456101.514543,\n",
       " 2457802.571019,\n",
       " 2457803.573334,\n",
       " 2457806.562837,\n",
       " 2457811.582037,\n",
       " 2458219.478059,\n",
       " 2458220.51107,\n",
       " 2458227.457955,\n",
       " 2458309.454704,\n",
       " 2458310.45504,\n",
       " 2458311.451651]"
      ]
     },
     "execution_count": 7,
     "metadata": {},
     "output_type": "execute_result"
    }
   ],
   "source": [
    "mjd_start"
   ]
  },
  {
   "cell_type": "code",
   "execution_count": 8,
   "metadata": {},
   "outputs": [
    {
     "name": "stdout",
     "output_type": "stream",
     "text": [
      "['950', '950', '950', '309', '309', '809', '809', '309', '950', '950', '950', '071', '950', '950', '950', '809', '809', '809']\n"
     ]
    }
   ],
   "source": [
    "# Obtain telescope codes from files filenames to parse Horizons database\n",
    "siteid = []\n",
    "for file in files:\n",
    "    siteid.append(file[85:88])\n",
    "print(siteid)"
   ]
  },
  {
   "cell_type": "code",
   "execution_count": 9,
   "metadata": {},
   "outputs": [],
   "source": [
    "# Correct mid-exposure MJDs for light travel time before we obtain alphas, deltas and r_hs\n",
    "# MJD_use = MJD_start-(delta/c)\n",
    "au=1.496e11   #m\n",
    "d2s=86400\n",
    "mjd_use = []\n",
    "\n",
    "for i,day in enumerate(mjd_start):\n",
    "    obj = Horizons(id='90001062',location = siteid[i], epochs=day)\n",
    "    eph = obj.ephemerides(quantities='20')\n",
    "    deltcomet = float(eph['delta'])\n",
    "    mjd_use.append(((mjd_start[i]*d2s)-((deltcomet*au)/3.e8))/d2s)"
   ]
  },
  {
   "cell_type": "code",
   "execution_count": 10,
   "metadata": {},
   "outputs": [
    {
     "data": {
      "text/plain": [
       "[2454238.4504419076,\n",
       " 2454239.36251031,\n",
       " 2454240.3729025465,\n",
       " 2456040.571266327,\n",
       " 2456071.4737502034,\n",
       " 2456093.490967207,\n",
       " 2456096.4932989585,\n",
       " 2456101.438880528,\n",
       " 2457802.5503569725,\n",
       " 2457803.5527208317,\n",
       " 2457806.5423623323,\n",
       " 2457811.504141046,\n",
       " 2458219.455531825,\n",
       " 2458220.4885629457,\n",
       " 2458227.435531547,\n",
       " 2458309.3739130935,\n",
       " 2458310.374203054,\n",
       " 2458311.370768656]"
      ]
     },
     "execution_count": 10,
     "metadata": {},
     "output_type": "execute_result"
    }
   ],
   "source": [
    "# Check these look resonable:\n",
    "mjd_use"
   ]
  },
  {
   "cell_type": "code",
   "execution_count": 11,
   "metadata": {},
   "outputs": [],
   "source": [
    "# Use light-time corrected MJDs to parse Horizons for delta, alpha, r_h\n",
    "r_au = []\n",
    "delta_au = []\n",
    "alpha = []\n",
    "\n",
    "for i in range(len(siteid)):\n",
    "    obj = Horizons(id='90001063',location = siteid[i], epochs=mjd_use[i])\n",
    "    eph = obj.ephemerides(quantities='1,19,20,24')\n",
    "    \n",
    "    r = float(eph['r'])\n",
    "    r_au.append(r)\n",
    "    \n",
    "    delta = float(eph['delta'])\n",
    "    delta_au.append(delta)\n",
    "    \n",
    "    alph = float(eph['alpha'])\n",
    "    alpha.append(alph)"
   ]
  },
  {
   "cell_type": "code",
   "execution_count": 12,
   "metadata": {},
   "outputs": [
    {
     "data": {
      "text/plain": [
       "[7.5057,\n",
       " 7.6664,\n",
       " 7.8417,\n",
       " 4.4883,\n",
       " 9.892,\n",
       " 11.8385,\n",
       " 11.97,\n",
       " 12.1195,\n",
       " 9.8697,\n",
       " 9.6987,\n",
       " 9.1704,\n",
       " 8.2387,\n",
       " 2.2635,\n",
       " 2.0222,\n",
       " 0.3947,\n",
       " 12.0582,\n",
       " 12.0751,\n",
       " 12.0887]"
      ]
     },
     "execution_count": 12,
     "metadata": {},
     "output_type": "execute_result"
    }
   ],
   "source": [
    "alpha"
   ]
  },
  {
   "cell_type": "code",
   "execution_count": 13,
   "metadata": {},
   "outputs": [
    {
     "data": {
      "text/plain": [
       "[4.02881217842786,\n",
       " 4.03826935900512,\n",
       " 4.04896403336102,\n",
       " 3.77885960724139,\n",
       " 4.10533811709723,\n",
       " 4.4432554656851,\n",
       " 4.49279873836548,\n",
       " 4.57531187787287,\n",
       " 3.58012510885411,\n",
       " 3.5716550281028,\n",
       " 3.5476438468523,\n",
       " 3.51221721097544,\n",
       " 3.90318715732432,\n",
       " 3.8996925624379,\n",
       " 3.88515794404615,\n",
       " 4.65580545832238,\n",
       " 4.67096841013804,\n",
       " 4.68608628465914]"
      ]
     },
     "execution_count": 13,
     "metadata": {},
     "output_type": "execute_result"
    }
   ],
   "source": [
    "delta_au"
   ]
  },
  {
   "cell_type": "code",
   "execution_count": 14,
   "metadata": {},
   "outputs": [
    {
     "data": {
      "text/plain": [
       "[4.85769698213,\n",
       " 4.858055505351,\n",
       " 4.858445415151,\n",
       " 4.728205159503,\n",
       " 4.770694472818,\n",
       " 4.79651977579,\n",
       " 4.799756506763,\n",
       " 4.804939593401,\n",
       " 4.302234515353,\n",
       " 4.305287215767,\n",
       " 4.314341046276,\n",
       " 4.329198710774,\n",
       " 4.890342120172,\n",
       " 4.890195023525,\n",
       " 4.88900488379,\n",
       " 4.8485101495,\n",
       " 4.847713342597,\n",
       " 4.846912214461]"
      ]
     },
     "execution_count": 14,
     "metadata": {},
     "output_type": "execute_result"
    }
   ],
   "source": [
    "r_au"
   ]
  },
  {
   "cell_type": "code",
   "execution_count": 15,
   "metadata": {},
   "outputs": [],
   "source": [
    "# Defining funciton to calculate reduced magnitude H(1,1,alpha)\n",
    "# Inputs:\n",
    "#    m: magnitude\n",
    "#    r: heliocentric distance (AU)\n",
    "#    delta: geocentric distance (AU)\n",
    "\n",
    "# Outputs:\n",
    "#    h: H(1,1,0)\n",
    "def mag_reduce(m, r, delta):\n",
    "    h = m-(5*np.log10(r*delta))\n",
    "    return h"
   ]
  },
  {
   "cell_type": "code",
   "execution_count": 16,
   "metadata": {},
   "outputs": [],
   "source": [
    "# Generate reduced magnitudes\n",
    "#hmags = []\n",
    "#for i in range(len(mags_shifted)):\n",
    " #   hmags.append(mag_reduce(mags_shifted[i], r_au[i], delta_au[i]))\n",
    "hmags=mags_shifted"
   ]
  },
  {
   "cell_type": "code",
   "execution_count": 17,
   "metadata": {},
   "outputs": [
    {
     "name": "stdout",
     "output_type": "stream",
     "text": [
      "0.04793029635230651 13.859802855793067 0.0028426805471468046 0.9729945869676964\n"
     ]
    }
   ],
   "source": [
    "# Use alpha, reduced mags H(1,1,alpha) to calc least squares fit => phase slope\n",
    "from scipy import stats\n",
    "slope, intercept, r_value, p_value, std_err = stats.linregress(alpha,hmags)\n",
    "print(slope, intercept, std_err, r_value)"
   ]
  },
  {
   "cell_type": "code",
   "execution_count": null,
   "metadata": {},
   "outputs": [],
   "source": []
  },
  {
   "cell_type": "code",
   "execution_count": 62,
   "metadata": {
    "scrolled": true
   },
   "outputs": [],
   "source": [
    "# Generate data to plot straight line\n",
    "x = np.arange(0,max(alpha)+1,max(alpha)/100)\n",
    "y = (slope*x)+intercept"
   ]
  },
  {
   "cell_type": "code",
   "execution_count": 46,
   "metadata": {},
   "outputs": [
    {
     "name": "stdout",
     "output_type": "stream",
     "text": [
      "647\n",
      "[0.0476, 0.0378, 0.0289, 0.0209, 0.0394, 0.0208, 0.0356, 0.042, 0.014, 0.014, 0.0136, 0.0172, 0.0181, 0.0107, 0.0128, 0.0192, 0.0155, 0.02]\n",
      "18\n"
     ]
    }
   ],
   "source": [
    "# Reading in Rosita's errorbars\n",
    "\n",
    "magunc=[]\n",
    "magunc_use=[]\n",
    "\n",
    "filename=main_dir+'TABLE_m_vs_alpha_RK.txt'\n",
    "\n",
    "f=open(filename,'r')\n",
    "lines=f.readlines()\n",
    "for line in lines:\n",
    "    data=line.split()\n",
    "    magunc.append(float(data[4]))\n",
    "print(len(magunc))\n",
    "magunc_use.append(magunc[0])\n",
    "for i in range(1,len(magunc)):\n",
    "    if magunc[i]!=magunc[i-1]:\n",
    "        magunc_use.append(magunc[i])\n",
    "magunc_use.insert(9,0.0140)\n",
    "print(magunc_use)\n",
    "print(len(magunc_use))"
   ]
  },
  {
   "cell_type": "code",
   "execution_count": 20,
   "metadata": {},
   "outputs": [],
   "source": [
    "labels=['2007-05', '2012-04', '2012-05', '2012-06', '2017-02', '2018-04', '2018-07']"
   ]
  },
  {
   "cell_type": "code",
   "execution_count": 63,
   "metadata": {},
   "outputs": [
    {
     "data": {
      "image/png": "[encoded data removed]",
      "text/plain": [
       "<Figure size 864x576 with 1 Axes>"
      ]
     },
     "metadata": {
      "needs_background": "light"
     },
     "output_type": "display_data"
    }
   ],
   "source": [
    "plt.rc('text', usetex=True)\n",
    "plt.rc('font', family='serif')\n",
    "\n",
    "size = 100\n",
    "lab = 24\n",
    "leg = 16\n",
    "\n",
    "plt.figure(figsize=(12,8))\n",
    "plt.scatter(alpha[0:3], hmags[0:3], label=labels[0],marker='^',s=size,color='darkviolet')\n",
    "plt.scatter(alpha[3:4], hmags[3:4], label=labels[1],marker='o',s=size,color='darkturquoise')\n",
    "plt.scatter(alpha[4:5], hmags[4:5], label=labels[2],marker='>',s=size, color='tomato')\n",
    "plt.scatter(alpha[5:8], hmags[5:8], label=labels[3],marker='<',s=size, color='green')\n",
    "plt.scatter(alpha[8:12], hmags[8:12], label=labels[4],marker='o',s=size,color='cornflowerblue')\n",
    "plt.scatter(alpha[12:15], hmags[12:15],label=labels[5],marker='o',s=size,color='m')\n",
    "plt.scatter(alpha[15:], hmags[15:],label=labels[6],marker='o',s=size,color='blue')\n",
    "\n",
    "plt.errorbar(alpha,hmags,yerr=magunc_use,fmt='|',color='gray',capsize=4)\n",
    "\n",
    "plt.plot(x,y, color='dimgray', linestyle='--', linewidth = 0.5, label='%.4f'% slope+ r'$\\pm$''%.4f'% std_err)\n",
    "plt.gca().invert_yaxis()\n",
    "plt.xlabel(r'$\\alpha$'' [deg]', fontsize=lab)\n",
    "plt.ylabel(r'H(1,1,'r'$\\alpha$) [mag]', fontsize = lab)\n",
    "#plt.title(target+' H(1,1,'r'$\\alpha$) vs $\\alpha$ long:'+lam+' lat:'+beta, fontsize = 16)\n",
    "plt.xticks(fontsize=16); plt.yticks(fontsize=22)\n",
    "plt.legend(loc=3,fontsize=leg)\n",
    "plt.savefig(main_dir+'pictures/'+target+'_'+lam+'_'+beta+'_shifts_dist_cal.pdf', format='pdf')\n",
    "#plt.show()"
   ]
  },
  {
   "cell_type": "code",
   "execution_count": 31,
   "metadata": {},
   "outputs": [
    {
     "data": {
      "text/plain": [
       "array([14.12549517, 14.12549532, 14.12549547, 14.12549562, 14.12549577,\n",
       "       14.12549592, 14.12549607, 14.12549622, 14.12549637, 14.12549652,\n",
       "       14.12549667, 14.12549682, 14.12549696, 14.12549711, 14.12549726,\n",
       "       14.12549741, 14.12549756, 14.12549771, 14.12549786, 14.12549801,\n",
       "       14.12549816, 14.12549831, 14.12549846, 14.12549861, 14.12549876,\n",
       "       14.12549891, 14.12549906, 14.12549921, 14.12549936, 14.12549951,\n",
       "       14.12549966, 14.12549981, 14.12549996, 14.12550011, 14.12550026,\n",
       "       14.12550041, 14.12550056, 14.12550071, 14.12550085, 14.125501  ,\n",
       "       14.12550115, 14.1255013 , 14.12550145, 14.1255016 , 14.12550175,\n",
       "       14.1255019 , 14.12550205, 14.1255022 , 14.12550235, 14.1255025 ,\n",
       "       14.12550265, 14.1255028 , 14.12550295, 14.1255031 , 14.12550325,\n",
       "       14.1255034 , 14.12550355, 14.1255037 , 14.12550385, 14.125504  ,\n",
       "       14.12550415, 14.1255043 , 14.12550445, 14.1255046 , 14.12550474,\n",
       "       14.12550489, 14.12550504, 14.12550519, 14.12550534, 14.12550549,\n",
       "       14.12550564, 14.12550579, 14.12550594, 14.12550609, 14.12550624,\n",
       "       14.12550639, 14.12550654, 14.12550669, 14.12550684, 14.12550699,\n",
       "       14.12550714, 14.12550729, 14.12550744, 14.12550759, 14.12550774,\n",
       "       14.12550789, 14.12550804, 14.12550819, 14.12550834, 14.12550849,\n",
       "       14.12550863, 14.12550878, 14.12550893, 14.12550908, 14.12550923,\n",
       "       14.12550938, 14.12550953, 14.12550968, 14.12550983, 14.12550998,\n",
       "       14.12551013, 14.12551028, 14.12551043, 14.12551058, 14.12551073,\n",
       "       14.12551088, 14.12551103, 14.12551118, 14.12551133])"
      ]
     },
     "execution_count": 31,
     "metadata": {},
     "output_type": "execute_result"
    }
   ],
   "source": [
    "y_exp"
   ]
  },
  {
   "cell_type": "code",
   "execution_count": null,
   "metadata": {},
   "outputs": [],
   "source": []
  },
  {
   "cell_type": "code",
   "execution_count": null,
   "metadata": {},
   "outputs": [],
   "source": []
  },
  {
   "cell_type": "code",
   "execution_count": null,
   "metadata": {},
   "outputs": [],
   "source": []
  },
  {
   "cell_type": "code",
   "execution_count": null,
   "metadata": {},
   "outputs": [],
   "source": []
  },
  {
   "cell_type": "code",
   "execution_count": null,
   "metadata": {},
   "outputs": [],
   "source": []
  },
  {
   "cell_type": "code",
   "execution_count": null,
   "metadata": {},
   "outputs": [],
   "source": []
  }
 ],
 "metadata": {
  "kernelspec": {
   "display_name": "Python 3",
   "language": "python",
   "name": "python3"
  },
  "language_info": {
   "codemirror_mode": {
    "name": "ipython",
    "version": 3
   },
   "file_extension": ".py",
   "mimetype": "text/x-python",
   "name": "python",
   "nbconvert_exporter": "python",
   "pygments_lexer": "ipython3",
   "version": "3.8.3"
  }
 },
 "nbformat": 4,
 "nbformat_minor": 4
}
