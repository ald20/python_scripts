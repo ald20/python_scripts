{
 "cells": [
  {
   "cell_type": "code",
   "execution_count": 3,
   "metadata": {},
   "outputs": [],
   "source": [
    "import numpy as np\n",
    "import math\n",
    "import matplotlib.pyplot as plt\n",
    "import glob\n",
    "import sys\n",
    "from astroquery.jplhorizons import Horizons"
   ]
  },
  {
   "cell_type": "code",
   "execution_count": 4,
   "metadata": {},
   "outputs": [],
   "source": [
    "### Change as required\n",
    "main_dir = '/Users/s1523386/Documents/year1/shape_modelling/162p/'\n",
    "lc_dir = main_dir+'LC_prep/raw/'\n",
    "target = '162p'\n",
    "date = '20210427'\n",
    "lam = '280'\n",
    "beta = '-40'\n",
    "best_shifts = main_dir+'best_scaling_'+date+'_'+lam+'_'+beta+'_u.txt'\n"
   ]
  },
  {
   "cell_type": "code",
   "execution_count": 5,
   "metadata": {},
   "outputs": [
    {
     "name": "stdout",
     "output_type": "stream",
     "text": [
      "18 LC files found for 162p.\n",
      "First file in list =  /Users/s1523386/Documents/year1/shape_modelling/162p/LC_prep/raw/162p_20070517_950_R.txt\n"
     ]
    }
   ],
   "source": [
    "files = sorted(glob.glob(lc_dir+target+'*R.txt'))\n",
    "# Check this read correctly\n",
    "if len(files)==0:\n",
    "    print('Problem loading LC files, check path.')\n",
    "    sys.exit()\n",
    "else:\n",
    "    print('%i LC files found for %s.'%(len(files), target))\n",
    "    print('First file in list = ', files[0])"
   ]
  },
  {
   "cell_type": "code",
   "execution_count": 6,
   "metadata": {},
   "outputs": [
    {
     "data": {
      "text/plain": [
       "[0.075,\n",
       " 0.208,\n",
       " 0.08,\n",
       " -0.007,\n",
       " 0.035,\n",
       " -0.313,\n",
       " -0.007,\n",
       " 0.03,\n",
       " 0.043,\n",
       " -0.259,\n",
       " 0.085,\n",
       " -0.173,\n",
       " 0.213,\n",
       " 0.035,\n",
       " 0.179,\n",
       " 0.31,\n",
       " -0.002,\n",
       " -0.225]"
      ]
     },
     "execution_count": 6,
     "metadata": {},
     "output_type": "execute_result"
    }
   ],
   "source": [
    "# read in best shifts as output from matlab script\n",
    "shifts = []\n",
    "f = open(best_shifts, 'r')\n",
    "lines = f.readlines()\n",
    "for line in lines:\n",
    "    data=line.split()\n",
    "    shifts.append(float(data[0]))\n",
    "shifts"
   ]
  },
  {
   "cell_type": "code",
   "execution_count": 5,
   "metadata": {},
   "outputs": [],
   "source": [
    "\"\"\"# Function to convert intensities back to magnitudes\n",
    "\n",
    "def int2mag(i,m0):\n",
    "    m = m0-2.5*np.log10(i)\n",
    "    return m\n",
    "\n",
    "# Testing whether the order of subtracting the shift from the intensity before converting back to magnitude matters\n",
    "\n",
    "ints1=[0.67670596,0.67421747,0.68738492,0.68108294,0.68548823,0.69246846,0.66435468,0.69374521,0.65584317,0.67795364,0.67173813,0.66742120 ,0.66680677]\n",
    "print(ints1)\n",
    "shifted_ints1=np.array(ints1)-shifts[0]\n",
    "\n",
    "shifted_mags_test=np.zeros_like(shifted_ints1)\n",
    "\n",
    "for i,intensity in enumerate(shifted_ints1):\n",
    "    shifted_mags_test[i]=int2mag(intensity, 20)\n",
    "shifted_mags_test\n",
    "print(np.mean(shifted_mags_test))\"\"\";"
   ]
  },
  {
   "cell_type": "code",
   "execution_count": 10,
   "metadata": {},
   "outputs": [
    {
     "name": "stdout",
     "output_type": "stream",
     "text": [
      "No. mags to take mean of = 13\n",
      "No. mags to take mean of = 12\n",
      "No. mags to take mean of = 12\n",
      "No. mags to take mean of = 30\n",
      "No. mags to take mean of = 5\n",
      "No. mags to take mean of = 17\n",
      "No. mags to take mean of = 13\n",
      "No. mags to take mean of = 29\n",
      "No. mags to take mean of = 93\n",
      "No. mags to take mean of = 52\n",
      "No. mags to take mean of = 79\n",
      "No. mags to take mean of = 21\n",
      "No. mags to take mean of = 80\n",
      "No. mags to take mean of = 71\n",
      "No. mags to take mean of = 51\n",
      "No. mags to take mean of = 17\n",
      "No. mags to take mean of = 15\n",
      "No. mags to take mean of = 8\n"
     ]
    },
    {
     "data": {
      "text/plain": [
       "[20.424384615384614,\n",
       " 20.75744166666667,\n",
       " 20.482341666666667,\n",
       " 20.190483333333336,\n",
       " 20.6787,\n",
       " 21.30923529411765,\n",
       " 20.867446153846153,\n",
       " 20.828841379310344,\n",
       " 20.330302150537634,\n",
       " 20.085386538461538,\n",
       " 20.429920253164553,\n",
       " 20.1152,\n",
       " 20.3756725,\n",
       " 20.218952112676053,\n",
       " 20.34077450980392,\n",
       " 21.005582352941175,\n",
       " 21.510839999999998,\n",
       " 21.016075]"
      ]
     },
     "execution_count": 10,
     "metadata": {},
     "output_type": "execute_result"
    }
   ],
   "source": [
    "# Magnitudes found in the second column of each LC file, JD in first\n",
    "# Calculate mean magnitude from each LC as it's read in\n",
    "mjd_start = []\n",
    "mjd_all=[]\n",
    "mag = []\n",
    "mean_mag = []\n",
    "mag_all = []\n",
    "mag_unc=[]\n",
    "mjd = []\n",
    "npoints=np.zeros(len(files))\n",
    "\n",
    "for i,file in enumerate(files):\n",
    "    \n",
    "    count = 0\n",
    "    f = open(file, 'r')\n",
    "    lines = f.readlines()\n",
    "    for line in lines:\n",
    "        data = line.split()\n",
    "        mjd_all.append(float(data[0]))\n",
    "        mjd.append(float(data[0]))\n",
    "        mag.append(float(data[1]))\n",
    "        mag_all.append(float(data[1]))\n",
    "        mag_unc.append(float(data[2]))\n",
    "        count = count+1\n",
    "    npoints[i] = int(count)\n",
    "    mjd_start.append(mjd[0])    # MJDs at start of observing run (mid-exposure)\n",
    "    print('No. mags to take mean of =', len(mag))\n",
    "    mean_mag.append(np.mean(mag))\n",
    "    mjd = []\n",
    "    mag = []\n",
    "    \n",
    "f.close()\n",
    "mean_mag"
   ]
  },
  {
   "cell_type": "code",
   "execution_count": 11,
   "metadata": {},
   "outputs": [
    {
     "name": "stdout",
     "output_type": "stream",
     "text": [
      "20.349384615384615\n",
      "20.54944166666667\n",
      "20.40234166666667\n",
      "20.197483333333338\n",
      "20.6437\n",
      "21.622235294117647\n",
      "20.874446153846154\n",
      "20.798841379310343\n",
      "20.287302150537634\n",
      "20.34438653846154\n",
      "20.344920253164553\n",
      "20.2882\n",
      "20.1626725\n",
      "20.183952112676053\n",
      "20.161774509803923\n",
      "20.695582352941177\n",
      "21.512839999999997\n",
      "21.241075000000002\n"
     ]
    }
   ],
   "source": [
    "# Shift the magnitudes by values in best_shifts\n",
    "mags_shifted = np.array(mean_mag)-np.array(shifts)\n",
    "for mag in mags_shifted:\n",
    "    print(mag)"
   ]
  },
  {
   "cell_type": "code",
   "execution_count": 12,
   "metadata": {},
   "outputs": [
    {
     "data": {
      "text/plain": [
       "[2454238.473696,\n",
       " 2454239.385819,\n",
       " 2454240.396273,\n",
       " 2456040.641995,\n",
       " 2456071.546767,\n",
       " 2456093.565922,\n",
       " 2456096.568522,\n",
       " 2456101.514543,\n",
       " 2457802.571019,\n",
       " 2457803.573334,\n",
       " 2457806.562837,\n",
       " 2457811.582037,\n",
       " 2458219.478059,\n",
       " 2458220.51107,\n",
       " 2458227.457955,\n",
       " 2458309.454704,\n",
       " 2458310.45504,\n",
       " 2458311.451651]"
      ]
     },
     "execution_count": 12,
     "metadata": {},
     "output_type": "execute_result"
    }
   ],
   "source": [
    "mjd_start"
   ]
  },
  {
   "cell_type": "code",
   "execution_count": 13,
   "metadata": {},
   "outputs": [
    {
     "name": "stdout",
     "output_type": "stream",
     "text": [
      "['950', '950', '950', '309', '309', '809', '809', '309', '950', '950', '950', '071', '950', '950', '950', '809', '809', '809']\n"
     ]
    }
   ],
   "source": [
    "# Obtain telescope codes from files filenames to parse Horizons database\n",
    "siteid = []\n",
    "for file in files:\n",
    "    siteid.append(file[26:29])\n",
    "print(siteid)"
   ]
  },
  {
   "cell_type": "code",
   "execution_count": 14,
   "metadata": {},
   "outputs": [],
   "source": [
    "# Correct mid-exposure MJDs for light travel time before we obtain alphas, deltas and r_hs\n",
    "# MJD_use = MJD_start-(delta/c)\n",
    "au=1.496e11   #m\n",
    "d2s=86400\n",
    "mjd_use = []\n",
    "\n",
    "for i,day in enumerate(mjd_start):\n",
    "    obj = Horizons(id='90001062',location = siteid[i], epochs=day)\n",
    "    eph = obj.ephemerides(quantities='20')\n",
    "    deltcomet = float(eph['delta'])\n",
    "    mjd_use.append(((mjd_start[i]*d2s)-((deltcomet*au)/3.e8))/d2s)"
   ]
  },
  {
   "cell_type": "code",
   "execution_count": 15,
   "metadata": {},
   "outputs": [
    {
     "data": {
      "text/plain": [
       "[2454238.4504419076,\n",
       " 2454239.36251031,\n",
       " 2454240.3729025465,\n",
       " 2456040.571266327,\n",
       " 2456071.4737502034,\n",
       " 2456093.490967207,\n",
       " 2456096.4932989585,\n",
       " 2456101.438880528,\n",
       " 2457802.5503569725,\n",
       " 2457803.5527208317,\n",
       " 2457806.5423623323,\n",
       " 2457811.504141046,\n",
       " 2458219.455531825,\n",
       " 2458220.4885629457,\n",
       " 2458227.435531547,\n",
       " 2458309.3739130935,\n",
       " 2458310.374203054,\n",
       " 2458311.370768656]"
      ]
     },
     "execution_count": 15,
     "metadata": {},
     "output_type": "execute_result"
    }
   ],
   "source": [
    "# Check these look resonable:\n",
    "mjd_use"
   ]
  },
  {
   "cell_type": "code",
   "execution_count": 16,
   "metadata": {},
   "outputs": [],
   "source": [
    "# Use light-time corrected MJDs to parse Horizons for delta, alpha, r_h\n",
    "r_au = []\n",
    "delta_au = []\n",
    "alpha = []\n",
    "\n",
    "for i in range(len(siteid)):\n",
    "    obj = Horizons(id='90001063',location = siteid[i], epochs=mjd_use[i])\n",
    "    eph = obj.ephemerides(quantities='1,19,20,24')\n",
    "    \n",
    "    r = float(eph['r'])\n",
    "    r_au.append(r)\n",
    "    \n",
    "    delta = float(eph['delta'])\n",
    "    delta_au.append(delta)\n",
    "    \n",
    "    alph = float(eph['alpha'])\n",
    "    alpha.append(alph)"
   ]
  },
  {
   "cell_type": "code",
   "execution_count": 17,
   "metadata": {},
   "outputs": [
    {
     "data": {
      "text/plain": [
       "[7.5057,\n",
       " 7.6664,\n",
       " 7.8417,\n",
       " 4.4883,\n",
       " 9.892,\n",
       " 11.8385,\n",
       " 11.97,\n",
       " 12.1195,\n",
       " 9.8697,\n",
       " 9.6987,\n",
       " 9.1704,\n",
       " 8.2387,\n",
       " 2.2635,\n",
       " 2.0222,\n",
       " 0.3947,\n",
       " 12.0582,\n",
       " 12.0751,\n",
       " 12.0887]"
      ]
     },
     "execution_count": 17,
     "metadata": {},
     "output_type": "execute_result"
    }
   ],
   "source": [
    "alpha"
   ]
  },
  {
   "cell_type": "code",
   "execution_count": 18,
   "metadata": {},
   "outputs": [
    {
     "data": {
      "text/plain": [
       "[4.02881217842786,\n",
       " 4.03826935900512,\n",
       " 4.04896403336102,\n",
       " 3.77885960724139,\n",
       " 4.10533811709723,\n",
       " 4.4432554656851,\n",
       " 4.49279873836548,\n",
       " 4.57531187787287,\n",
       " 3.58012510885411,\n",
       " 3.5716550281028,\n",
       " 3.5476438468523,\n",
       " 3.51221721097544,\n",
       " 3.90318715732432,\n",
       " 3.8996925624379,\n",
       " 3.88515794404615,\n",
       " 4.65580545832238,\n",
       " 4.67096841013804,\n",
       " 4.68608628465914]"
      ]
     },
     "execution_count": 18,
     "metadata": {},
     "output_type": "execute_result"
    }
   ],
   "source": [
    "delta_au"
   ]
  },
  {
   "cell_type": "code",
   "execution_count": 19,
   "metadata": {},
   "outputs": [
    {
     "data": {
      "text/plain": [
       "[4.85769698213,\n",
       " 4.858055505351,\n",
       " 4.858445415151,\n",
       " 4.728205159503,\n",
       " 4.770694472818,\n",
       " 4.79651977579,\n",
       " 4.799756506763,\n",
       " 4.804939593401,\n",
       " 4.302234515353,\n",
       " 4.305287215767,\n",
       " 4.314341046276,\n",
       " 4.329198710774,\n",
       " 4.890342120172,\n",
       " 4.890195023525,\n",
       " 4.88900488379,\n",
       " 4.8485101495,\n",
       " 4.847713342597,\n",
       " 4.846912214461]"
      ]
     },
     "execution_count": 19,
     "metadata": {},
     "output_type": "execute_result"
    }
   ],
   "source": [
    "r_au"
   ]
  },
  {
   "cell_type": "code",
   "execution_count": 20,
   "metadata": {},
   "outputs": [],
   "source": [
    "# Defining funciton to calculate reduced magnitude H(1,1,alpha)\n",
    "# Inputs:\n",
    "#    m: magnitude\n",
    "#    r: heliocentric distance (AU)\n",
    "#    delta: geocentric distance (AU)\n",
    "\n",
    "# Outputs:\n",
    "#    h: H(1,1,0)\n",
    "def mag_reduce(m, r, delta):\n",
    "    h = m-(5*np.log10(r*delta))\n",
    "    return h"
   ]
  },
  {
   "cell_type": "code",
   "execution_count": 21,
   "metadata": {},
   "outputs": [
    {
     "data": {
      "text/plain": [
       "[13.89134740676062,\n",
       " 14.086152885642331,\n",
       " 13.933135432885049,\n",
       " 13.937197984288762,\n",
       " 14.184047321388658,\n",
       " 14.97909767825886,\n",
       " 14.205765302896781,\n",
       " 14.08829820206977,\n",
       " 14.349340732328791,\n",
       " 14.410028363322574,\n",
       " 14.42064781939952,\n",
       " 14.37825556404842,\n",
       " 13.758879405756048,\n",
       " 13.782169364978051,\n",
       " 13.76862875957795,\n",
       " 13.927566681943329,\n",
       " 14.73812069422905,\n",
       " 14.459697825081463]"
      ]
     },
     "execution_count": 21,
     "metadata": {},
     "output_type": "execute_result"
    }
   ],
   "source": [
    "# Generate reduced magnitudes\n",
    "hmags = []\n",
    "for i in range(len(mags_shifted)):\n",
    "    hmags.append(mag_reduce(mags_shifted[i], r_au[i], delta_au[i]))\n",
    "hmags"
   ]
  },
  {
   "cell_type": "code",
   "execution_count": 22,
   "metadata": {},
   "outputs": [
    {
     "name": "stdout",
     "output_type": "stream",
     "text": [
      "0.062027884955998897 13.662202064652172 0.016399671498169982 0.6870541291307555\n"
     ]
    }
   ],
   "source": [
    "# Use alpha, reduced mags H(1,1,alpha) to calc least squares fit => phase slope\n",
    "from scipy import stats\n",
    "slope, intercept, r_value, p_value, std_err = stats.linregress(alpha,hmags)\n",
    "print(slope, intercept, std_err, r_value)"
   ]
  },
  {
   "cell_type": "code",
   "execution_count": 23,
   "metadata": {},
   "outputs": [],
   "source": [
    "# Generate data to plot straight line\n",
    "x = np.arange(0,max(alpha)+0.5,max(alpha)/100)\n",
    "y = (slope*x)+intercept"
   ]
  },
  {
   "cell_type": "code",
   "execution_count": 24,
   "metadata": {},
   "outputs": [
    {
     "name": "stdout",
     "output_type": "stream",
     "text": [
      "647\n",
      "[0.0476, 0.0378, 0.0289, 0.0209, 0.0394, 0.0208, 0.0356, 0.042, 0.014, 0.014, 0.0136, 0.0172, 0.0181, 0.0107, 0.0128, 0.0192, 0.0155, 0.02]\n",
      "18\n"
     ]
    }
   ],
   "source": [
    "# Reading in Rosita's errorbars\n",
    "\n",
    "magunc=[]\n",
    "magunc_use=[]\n",
    "\n",
    "filename='TABLE_m_vs_alpha_RK.txt'\n",
    "\n",
    "f=open(filename,'r')\n",
    "lines=f.readlines()\n",
    "for line in lines:\n",
    "    data=line.split()\n",
    "    magunc.append(float(data[4]))\n",
    "print(len(magunc))\n",
    "magunc_use.append(magunc[0])\n",
    "for i in range(1,len(magunc)):\n",
    "    if magunc[i]!=magunc[i-1]:\n",
    "        magunc_use.append(magunc[i])\n",
    "magunc_use.insert(9,0.0140)\n",
    "print(magunc_use)\n",
    "print(len(magunc_use))"
   ]
  },
  {
   "cell_type": "code",
   "execution_count": 25,
   "metadata": {},
   "outputs": [],
   "source": [
    "labels=['2007-05', '2012-04', '2012-05', '2012-06', '2017-02', '2018-04', '2018-07']"
   ]
  },
  {
   "cell_type": "code",
   "execution_count": 26,
   "metadata": {},
   "outputs": [
    {
     "data": {
      "image/png": "[encoded data removed]",
      "text/plain": [
       "<Figure size 864x576 with 1 Axes>"
      ]
     },
     "metadata": {
      "needs_background": "light"
     },
     "output_type": "display_data"
    }
   ],
   "source": [
    "size = 50\n",
    "\n",
    "plt.figure(figsize=(12,8))\n",
    "plt.scatter(alpha[0:3], hmags[0:3], label=labels[0],marker='^',s=size,color='darkviolet')\n",
    "plt.scatter(alpha[3:4], hmags[3:4], label=labels[1],marker='o',s=size,color='darkturquoise')\n",
    "plt.scatter(alpha[4:5], hmags[4:5], label=labels[2],marker='>',s=size, color='tomato')\n",
    "plt.scatter(alpha[5:8], hmags[5:8], label=labels[3],marker='<',s=size, color='green')\n",
    "plt.scatter(alpha[8:12], hmags[8:12], label=labels[4],marker='o',s=size,color='cornflowerblue')\n",
    "plt.scatter(alpha[12:15], hmags[12:15],label=labels[5],marker='o',s=size,color='m')\n",
    "plt.scatter(alpha[15:], hmags[15:],label=labels[6],marker='o',s=size,color='blue')\n",
    "\n",
    "plt.errorbar(alpha,hmags,yerr=magunc_use,fmt='|',color='gray',capsize=4)\n",
    "\n",
    "plt.plot(x,y, color='dimgray', label='%.4f'% slope+ r'$\\pm$ ''%.4f'% std_err)\n",
    "plt.gca().invert_yaxis()\n",
    "plt.xlabel(r'$\\alpha$'' (deg)', fontsize=18)\n",
    "plt.ylabel('H(1,1,'r'$\\alpha$)', fontsize = 18)\n",
    "plt.title(target+' H(1,1,'r'$\\alpha$) vs $\\alpha$ long:'+lam+' lat:'+beta, fontsize = 16)\n",
    "plt.xticks(fontsize=16); plt.yticks(fontsize=16)\n",
    "plt.legend(loc=3,fontsize=12)\n",
    "#plt.savefig('pictures/'+target+'_'+lam+'_'+beta+'_combined_LCs_'+date+'.pdf', format='pdf')\n",
    "plt.show()"
   ]
  },
  {
   "cell_type": "code",
   "execution_count": 27,
   "metadata": {},
   "outputs": [
    {
     "data": {
      "text/plain": [
       "[2454238.473696,\n",
       " 2454238.475177,\n",
       " 2454238.47667,\n",
       " 2454238.478152,\n",
       " 2454238.479633,\n",
       " 2454238.481115,\n",
       " 2454238.482596,\n",
       " 2454238.484078,\n",
       " 2454238.485582,\n",
       " 2454238.487064,\n",
       " 2454238.549216,\n",
       " 2454238.553696,\n",
       " 2454238.558152]"
      ]
     },
     "execution_count": 27,
     "metadata": {},
     "output_type": "execute_result"
    }
   ],
   "source": [
    "lc1 = mag_all[:13]; mjd1=mjd_all[:13]\n",
    "lc2 = mag_all[13:25]; mjd2=mjd_all[13:25]\n",
    "lc3 = mag_all[25:37]; mjd3=mjd_all[25:37]\n",
    "mjd1"
   ]
  },
  {
   "cell_type": "code",
   "execution_count": 194,
   "metadata": {},
   "outputs": [],
   "source": [
    "# function to obtain rotational phase from MJD\n",
    "\n",
    "def rot_phase(mjds, t0, p):\n",
    "    phase = []\n",
    "    for value in mjds:\n",
    "        alpha=((2*np.pi)/p)*(value-t0)\n",
    "        phase.append((alpha/(2*np.pi))-math.floor(alpha/(2*np.pi)))\n",
    "    return phase"
   ]
  },
  {
   "cell_type": "code",
   "execution_count": 195,
   "metadata": {},
   "outputs": [
    {
     "name": "stdout",
     "output_type": "stream",
     "text": [
      "[0.0, 0.0010815473455795537, 0.0021718581402649603, 0.003254135943301998, 0.004335683628945546, 0.00541796109191859, 0.006499508777562137, 0.007581786240535182, 0.00868013036693295, 0.009762408169969988, 0.05515088639380478, 0.05842254923531848, 0.06167668517862048] [0.6661068855137545, 0.6673658911734396, 0.6686168641815404, 0.6698853637477887, 0.671135606298432, 0.6760379885487242, 0.6797317541215299, 0.7872796339415606, 0.7885386399413097, 0.8234132505255314, 0.8245035613202168, 0.8255851086657964] [0.40402311687021375, 0.4051134276648991, 0.40619497501047874, 0.45868398397218835, 0.45976626177522517, 0.4608814023423773, 0.5138947535948191, 0.5149763009403985, 0.5160585787434357, 0.5583791431272438, 0.5594614209302808, 0.5605517317249662]\n"
     ]
    }
   ],
   "source": [
    "period = (32.864023/24)\n",
    "phase1=rot_phase(mjd1,mjd1[0],period)\n",
    "phase2=rot_phase(mjd2,mjd1[0],period)\n",
    "phase3=rot_phase(mjd3,mjd1[0],period)\n",
    "print(phase1,phase2,phase3)"
   ]
  },
  {
   "cell_type": "code",
   "execution_count": 200,
   "metadata": {},
   "outputs": [
    {
     "data": {
      "image/png": "[encoded data removed]",
      "text/plain": [
       "<Figure size 864x576 with 1 Axes>"
      ]
     },
     "metadata": {
      "needs_background": "light"
     },
     "output_type": "display_data"
    }
   ],
   "source": [
    "plt.figure(figsize=(12,8))\n",
    "plt.scatter(phase1,np.array(lc1)-np.mean(lc1))\n",
    "plt.scatter(phase2,np.array(lc2)-np.mean(lc2))\n",
    "plt.scatter(phase3,np.array(lc3)-np.mean(lc3))\n",
    "plt.show()"
   ]
  },
  {
   "cell_type": "code",
   "execution_count": 177,
   "metadata": {},
   "outputs": [
    {
     "name": "stdout",
     "output_type": "stream",
     "text": [
      "0\n",
      "0\n",
      "0\n",
      "0\n",
      "0\n",
      "0\n",
      "0\n",
      "0\n",
      "0\n",
      "0\n",
      "0\n",
      "0\n",
      "0\n"
     ]
    }
   ],
   "source": [
    "for value in mjd1:\n",
    "    x=math.floor((value - mjd1[0])/period)\n",
    "    print(x)"
   ]
  },
  {
   "cell_type": "code",
   "execution_count": 153,
   "metadata": {},
   "outputs": [
    {
     "data": {
      "text/plain": [
       "array([20.60638462, 20.81644167, 20.78934167, 20.30948333, 20.8517    ,\n",
       "       21.06323529, 21.09744615, 21.12084138, 20.26130215, 20.32838654,\n",
       "       20.25092025, 20.1402    , 20.3856725 , 20.20595211, 20.16977451,\n",
       "       21.13458235, 21.52684   , 21.370075  ])"
      ]
     },
     "execution_count": 153,
     "metadata": {},
     "output_type": "execute_result"
    }
   ],
   "source": [
    "mags_shifted"
   ]
  },
  {
   "cell_type": "code",
   "execution_count": null,
   "metadata": {},
   "outputs": [],
   "source": []
  }
 ],
 "metadata": {
  "kernelspec": {
   "display_name": "Python 3",
   "language": "python",
   "name": "python3"
  },
  "language_info": {
   "codemirror_mode": {
    "name": "ipython",
    "version": 3
   },
   "file_extension": ".py",
   "mimetype": "text/x-python",
   "name": "python",
   "nbconvert_exporter": "python",
   "pygments_lexer": "ipython3",
   "version": "3.8.3"
  }
 },
 "nbformat": 4,
 "nbformat_minor": 4
}
