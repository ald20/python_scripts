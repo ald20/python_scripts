{
 "cells": [
  {
   "cell_type": "code",
   "execution_count": 1,
   "metadata": {},
   "outputs": [],
   "source": [
    "import sys\n",
    "import time\n",
    "import os\n",
    "import glob\n",
    "import numpy as np\n",
    "import getpass\n",
    "import subprocess"
   ]
  },
  {
   "cell_type": "code",
   "execution_count": 2,
   "metadata": {},
   "outputs": [],
   "source": [
    "def make_input(lamb,beta,period,jd,iteration):\n",
    "    return \"%d           0    inital lambda [deg] (0/1 - fixed/free)\\n%d           0    initial beta [deg] (0/1 - fixed/free)\\n%f      1    inital period [hours] (0/1 - fixed/free)\\n %f      zero time [JD]             \\n0            initial rotation angle [deg]             \\n0.1            convexity regularization\\n6 6            degree and order of spherical harmonics expansion\\n8            number of rows                            \\n0        0    phase funct. param. 'a' (0/1 - fixed/free)          \\n0        0    phase funct. param. 'd' (0/1 - fixed/free)         \\n0        0    phase funct. param. 'k' (0/1 - fixed/free)         \\n0.1        0    Lambert coefficient 'c' (0/1 - fixed/free)\\n%d        iteration stop condition            \\n\"%(lamb,beta, period,jd,iteration)\n",
    "\n",
    "#if (len(sys.argv) != 9):\n",
    "#    print('Incorrect number of arguments, call as:')"
   ]
  },
  {
   "cell_type": "code",
   "execution_count": null,
   "metadata": {},
   "outputs": [],
   "source": []
  },
  {
   "cell_type": "code",
   "execution_count": 35,
   "metadata": {},
   "outputs": [],
   "source": []
  },
  {
   "cell_type": "code",
   "execution_count": null,
   "metadata": {},
   "outputs": [],
   "source": []
  },
  {
   "cell_type": "code",
   "execution_count": 25,
   "metadata": {},
   "outputs": [],
   "source": [
    "dir = 'Cuyo_Abbie/test/'\n",
    "obj_name = 'Cuyo'"
   ]
  },
  {
   "cell_type": "code",
   "execution_count": 26,
   "metadata": {},
   "outputs": [],
   "source": [
    "files = sorted(glob.glob(dir+'out*'))"
   ]
  },
  {
   "cell_type": "code",
   "execution_count": 18,
   "metadata": {},
   "outputs": [
    {
     "data": {
      "text/plain": [
       "['Cuyo_Abbie/test/out_periods_Cuyo_001',\n",
       " 'Cuyo_Abbie/test/out_periods_Cuyo_002',\n",
       " 'Cuyo_Abbie/test/out_periods_Cuyo_003',\n",
       " 'Cuyo_Abbie/test/out_periods_Cuyo_004']"
      ]
     },
     "execution_count": 18,
     "metadata": {},
     "output_type": "execute_result"
    }
   ],
   "source": [
    "files"
   ]
  },
  {
   "cell_type": "code",
   "execution_count": 27,
   "metadata": {},
   "outputs": [
    {
     "data": {
      "text/plain": [
       "0"
      ]
     },
     "execution_count": 27,
     "metadata": {},
     "output_type": "execute_result"
    }
   ],
   "source": [
    "#os.system('cat %sout_periods_Cuyo_* | sort -k1 > %sout_periods_Cuyo'%(dir,dir))\n",
    "os.system('cat %sout_periods_%s_* | sort -k1 > %sout_periods_%s'%(dir, obj_name,dir,obj_name)) "
   ]
  },
  {
   "cell_type": "code",
   "execution_count": null,
   "metadata": {},
   "outputs": [],
   "source": []
  }
 ],
 "metadata": {
  "kernelspec": {
   "display_name": "Python 3",
   "language": "python",
   "name": "python3"
  },
  "language_info": {
   "codemirror_mode": {
    "name": "ipython",
    "version": 3
   },
   "file_extension": ".py",
   "mimetype": "text/x-python",
   "name": "python",
   "nbconvert_exporter": "python",
   "pygments_lexer": "ipython3",
   "version": "3.8.3"
  }
 },
 "nbformat": 4,
 "nbformat_minor": 4
}
